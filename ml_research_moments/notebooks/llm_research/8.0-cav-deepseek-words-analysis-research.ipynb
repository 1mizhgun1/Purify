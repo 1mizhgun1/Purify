{
 "cells": [
  {
   "cell_type": "markdown",
   "id": "588bf00b",
   "metadata": {},
   "source": [
    "Тестирование ```GPT-Like``` моделей для анализа слов на мат и отгкровенную грязь"
   ]
  },
  {
   "cell_type": "markdown",
   "id": "dbffb4fe",
   "metadata": {},
   "source": [
    "В данном ноутбуке исследуется поход по ```API``` для входных слов"
   ]
  },
  {
   "cell_type": "markdown",
   "id": "b7e16b3a",
   "metadata": {},
   "source": [
    "Импортируем модули"
   ]
  },
  {
   "cell_type": "code",
   "execution_count": 2,
   "id": "f8d18366",
   "metadata": {},
   "outputs": [],
   "source": [
    "import json\n",
    "from openai import OpenAI"
   ]
  },
  {
   "cell_type": "markdown",
   "id": "a4e2b3b2",
   "metadata": {},
   "source": [
    "Загружаем ```API-key``` и тестируем промпт"
   ]
  },
  {
   "cell_type": "code",
   "execution_count": null,
   "id": "bb16a483",
   "metadata": {},
   "outputs": [],
   "source": [
    "client = OpenAI(\n",
    "    api_key=\"sk-4a298d1cd741462e96319f81e07e3225\",\n",
    "    base_url=\"https://api.deepseek.com\",\n",
    ")\n",
    "\n",
    "system_prompt = \"\"\"\n",
    "Пользователь вводит слово. Твоя задача сказать, указывает ли это слово на мат, оскорбление, грязь или вульгарный смысл, который стоит скрыть от детей. Пожалуйста, представь \"вопрос\" и \"ответ\" и вывод в формате JSON. \n",
    "\n",
    "Если да, то 1. Если нет, то 0\n",
    "\n",
    "Пример: \n",
    "Алкоголь. 1\n",
    "\n",
    "EXAMPLE JSON OUTPUT:\n",
    "{\n",
    "    \"question\": \"Алкоголь\",\n",
    "    \"answer\": \"1\"\n",
    "}\n",
    "\n",
    "EXAMPLE JSON OUTPUT:\n",
    "{\n",
    "    \"question\": \"риски\",\n",
    "    \"answer\": \"0\"\n",
    "}\n",
    "\"\"\"\n",
    "\n",
    "user_prompt = \"Круассан\"\n",
    "\n",
    "messages = [{\"role\": \"system\", \"content\": system_prompt},\n",
    "            {\"role\": \"user\", \"content\": user_prompt}]\n",
    "\n",
    "response = client.chat.completions.create(\n",
    "    model=\"deepseek-chat\",\n",
    "    messages=messages,\n",
    "    response_format={\n",
    "        'type': 'json_object'\n",
    "    }\n",
    ")\n",
    "\n",
    "print(json.loads(response.choices[0].message.content))\n"
   ]
  },
  {
   "cell_type": "code",
   "execution_count": 7,
   "id": "62e10bc3",
   "metadata": {},
   "outputs": [
    {
     "data": {
      "text/plain": [
       "True"
      ]
     },
     "execution_count": 7,
     "metadata": {},
     "output_type": "execute_result"
    }
   ],
   "source": [
    "import os\n",
    "from mistralai import Mistral\n",
    "from dotenv import load_dotenv\n",
    "load_dotenv()"
   ]
  },
  {
   "cell_type": "code",
   "execution_count": 8,
   "id": "f38d9aca",
   "metadata": {},
   "outputs": [],
   "source": [
    "api_key = os.environ[\"MISTRAL_API_KEY\"]\n",
    "model = \"mistral-large-latest\""
   ]
  },
  {
   "cell_type": "code",
   "execution_count": 22,
   "id": "f9219443",
   "metadata": {},
   "outputs": [],
   "source": [
    "client = Mistral(api_key=api_key)\n",
    "system_prompt = \"\"\"\n",
    "Пользователь вводит слово. Твоя задача сказать, указывает ли это слово на мат, оскорбление, грязь или вульгарный смысл, который стоит скрыть от детей. Пожалуйста, представь \"вопрос\" и \"ответ\" и вывод в формате JSON. \n",
    "\n",
    "Если да, то 1. Если нет, то 0\n",
    "\n",
    "Пример: \n",
    "Алкоголь. 1\n",
    "\n",
    "EXAMPLE JSON OUTPUT:\n",
    "{\n",
    "    \"question\": \"Алкоголь\",\n",
    "    \"answer\": \"1\"\n",
    "}\n",
    "\n",
    "EXAMPLE JSON OUTPUT:\n",
    "{\n",
    "    \"question\": \"риски\",\n",
    "    \"answer\": \"0\"\n",
    "}\n",
    "\"\"\"\n",
    "\n",
    "user_prompt = \"рассыпчатый\"\n",
    "\n",
    "messages = [{\"role\": \"system\", \"content\": system_prompt},\n",
    "            {\"role\": \"user\", \"content\": user_prompt}]\n"
   ]
  },
  {
   "cell_type": "markdown",
   "id": "b5b3671f",
   "metadata": {},
   "source": [
    "Пример запроса"
   ]
  },
  {
   "cell_type": "code",
   "execution_count": 23,
   "id": "35829078",
   "metadata": {},
   "outputs": [],
   "source": [
    "chat_response = client.chat.complete(\n",
    "      model = model,\n",
    "      messages = messages,\n",
    "      response_format = {\n",
    "          \"type\": \"json_object\",\n",
    "      }\n",
    ")"
   ]
  },
  {
   "cell_type": "code",
   "execution_count": 24,
   "id": "d65e1ce6",
   "metadata": {},
   "outputs": [
    {
     "name": "stdout",
     "output_type": "stream",
     "text": [
      "{\n",
      "    \"question\": \"рассыпчатый\",\n",
      "    \"answer\": \"0\"\n",
      "}\n"
     ]
    }
   ],
   "source": [
    "print(chat_response.choices[0].message.content)"
   ]
  },
  {
   "cell_type": "code",
   "execution_count": null,
   "id": "3d469214",
   "metadata": {},
   "outputs": [],
   "source": []
  }
 ],
 "metadata": {
  "kernelspec": {
   "display_name": "Python 3",
   "language": "python",
   "name": "python3"
  },
  "language_info": {
   "codemirror_mode": {
    "name": "ipython",
    "version": 3
   },
   "file_extension": ".py",
   "mimetype": "text/x-python",
   "name": "python",
   "nbconvert_exporter": "python",
   "pygments_lexer": "ipython3",
   "version": "3.12.3"
  }
 },
 "nbformat": 4,
 "nbformat_minor": 5
}
