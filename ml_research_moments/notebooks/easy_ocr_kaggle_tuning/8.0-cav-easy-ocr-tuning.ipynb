{
 "cells": [
  {
   "cell_type": "markdown",
   "id": "e80c2575",
   "metadata": {
    "papermill": {
     "duration": 0.004809,
     "end_time": "2025-03-26T09:51:52.721453",
     "exception": false,
     "start_time": "2025-03-26T09:51:52.716644",
     "status": "completed"
    },
    "tags": []
   },
   "source": [
    "Клонируем репозиторий ```EasyOCR```"
   ]
  },
  {
   "cell_type": "code",
   "execution_count": 1,
   "id": "22fd57ae",
   "metadata": {
    "_cell_guid": "b1076dfc-b9ad-4769-8c92-a6c4dae69d19",
    "_uuid": "8f2839f25d086af736a60e9eeb907d3b93b6e0e5",
    "execution": {
     "iopub.execute_input": "2025-03-26T09:51:52.730717Z",
     "iopub.status.busy": "2025-03-26T09:51:52.730366Z",
     "iopub.status.idle": "2025-03-26T09:52:02.612386Z",
     "shell.execute_reply": "2025-03-26T09:52:02.611510Z"
    },
    "papermill": {
     "duration": 9.888669,
     "end_time": "2025-03-26T09:52:02.614178",
     "exception": false,
     "start_time": "2025-03-26T09:51:52.725509",
     "status": "completed"
    },
    "tags": []
   },
   "outputs": [
    {
     "name": "stdout",
     "output_type": "stream",
     "text": [
      "Cloning into 'EasyOCR'...\r\n",
      "remote: Enumerating objects: 2759, done.\u001b[K\r\n",
      "remote: Counting objects: 100% (855/855), done.\u001b[K\r\n",
      "remote: Compressing objects: 100% (93/93), done.\u001b[K\r\n",
      "remote: Total 2759 (delta 785), reused 767 (delta 762), pack-reused 1904 (from 1)\u001b[K\r\n",
      "Receiving objects: 100% (2759/2759), 171.32 MiB | 29.02 MiB/s, done.\r\n",
      "Resolving deltas: 100% (1694/1694), done.\r\n",
      "Updating files: 100% (314/314), done.\r\n"
     ]
    }
   ],
   "source": [
    "!git clone https://github.com/4ervonec19/EasyOCR.git"
   ]
  },
  {
   "cell_type": "markdown",
   "id": "384633e7",
   "metadata": {
    "papermill": {
     "duration": 0.005257,
     "end_time": "2025-03-26T09:52:02.625371",
     "exception": false,
     "start_time": "2025-03-26T09:52:02.620114",
     "status": "completed"
    },
    "tags": []
   },
   "source": [
    "Переходим"
   ]
  },
  {
   "cell_type": "code",
   "execution_count": 2,
   "id": "bdb46997",
   "metadata": {
    "execution": {
     "iopub.execute_input": "2025-03-26T09:52:02.637038Z",
     "iopub.status.busy": "2025-03-26T09:52:02.636788Z",
     "iopub.status.idle": "2025-03-26T09:52:02.640245Z",
     "shell.execute_reply": "2025-03-26T09:52:02.639608Z"
    },
    "papermill": {
     "duration": 0.010598,
     "end_time": "2025-03-26T09:52:02.641385",
     "exception": false,
     "start_time": "2025-03-26T09:52:02.630787",
     "status": "completed"
    },
    "tags": []
   },
   "outputs": [],
   "source": [
    "import os\n",
    "os.chdir(\"EasyOCR\")\n",
    "os.chdir(\"trainer\")"
   ]
  },
  {
   "cell_type": "code",
   "execution_count": 3,
   "id": "72c5c1af",
   "metadata": {
    "execution": {
     "iopub.execute_input": "2025-03-26T09:52:02.652737Z",
     "iopub.status.busy": "2025-03-26T09:52:02.652507Z",
     "iopub.status.idle": "2025-03-26T09:52:02.664580Z",
     "shell.execute_reply": "2025-03-26T09:52:02.663985Z"
    },
    "papermill": {
     "duration": 0.019157,
     "end_time": "2025-03-26T09:52:02.665826",
     "exception": false,
     "start_time": "2025-03-26T09:52:02.646669",
     "status": "completed"
    },
    "tags": []
   },
   "outputs": [
    {
     "name": "stdout",
     "output_type": "stream",
     "text": [
      "all_data\n",
      "config_files\n",
      "craft\n",
      "dataset.py\n",
      "model.py\n",
      "modules\n",
      "README.md\n",
      "saved_models\n",
      "test_.py\n",
      "trainer.ipynb\n",
      "train.py\n",
      "utils.py\n"
     ]
    }
   ],
   "source": [
    "%%bash\n",
    "ls"
   ]
  },
  {
   "cell_type": "code",
   "execution_count": 4,
   "id": "51568fcf",
   "metadata": {
    "execution": {
     "iopub.execute_input": "2025-03-26T09:52:02.677335Z",
     "iopub.status.busy": "2025-03-26T09:52:02.677140Z",
     "iopub.status.idle": "2025-03-26T09:52:02.680119Z",
     "shell.execute_reply": "2025-03-26T09:52:02.679503Z"
    },
    "papermill": {
     "duration": 0.009928,
     "end_time": "2025-03-26T09:52:02.681243",
     "exception": false,
     "start_time": "2025-03-26T09:52:02.671315",
     "status": "completed"
    },
    "tags": []
   },
   "outputs": [],
   "source": [
    "os.chdir(\"all_data\")"
   ]
  },
  {
   "cell_type": "code",
   "execution_count": 5,
   "id": "0f99de31",
   "metadata": {
    "execution": {
     "iopub.execute_input": "2025-03-26T09:52:02.693034Z",
     "iopub.status.busy": "2025-03-26T09:52:02.692831Z",
     "iopub.status.idle": "2025-03-26T09:52:02.699905Z",
     "shell.execute_reply": "2025-03-26T09:52:02.699231Z"
    },
    "papermill": {
     "duration": 0.014287,
     "end_time": "2025-03-26T09:52:02.701080",
     "exception": false,
     "start_time": "2025-03-26T09:52:02.686793",
     "status": "completed"
    },
    "tags": []
   },
   "outputs": [
    {
     "name": "stdout",
     "output_type": "stream",
     "text": [
      "/kaggle/working/EasyOCR/trainer/all_data\n"
     ]
    }
   ],
   "source": [
    "%%bash\n",
    "pwd"
   ]
  },
  {
   "cell_type": "markdown",
   "id": "c9a0d681",
   "metadata": {
    "papermill": {
     "duration": 0.005412,
     "end_time": "2025-03-26T09:52:02.712111",
     "exception": false,
     "start_time": "2025-03-26T09:52:02.706699",
     "status": "completed"
    },
    "tags": []
   },
   "source": [
    "Копируем данные"
   ]
  },
  {
   "cell_type": "code",
   "execution_count": 6,
   "id": "eb001402",
   "metadata": {
    "execution": {
     "iopub.execute_input": "2025-03-26T09:52:02.723647Z",
     "iopub.status.busy": "2025-03-26T09:52:02.723447Z",
     "iopub.status.idle": "2025-03-26T09:54:51.471420Z",
     "shell.execute_reply": "2025-03-26T09:54:51.470353Z"
    },
    "papermill": {
     "duration": 168.755834,
     "end_time": "2025-03-26T09:54:51.473356",
     "exception": false,
     "start_time": "2025-03-26T09:52:02.717522",
     "status": "completed"
    },
    "tags": []
   },
   "outputs": [],
   "source": [
    "%%bash\n",
    "cp -r /kaggle/input/images-for-easy-ocr/train/train /kaggle/working/EasyOCR/trainer/all_data"
   ]
  },
  {
   "cell_type": "code",
   "execution_count": 7,
   "id": "5400c74d",
   "metadata": {
    "execution": {
     "iopub.execute_input": "2025-03-26T09:54:51.486150Z",
     "iopub.status.busy": "2025-03-26T09:54:51.485902Z",
     "iopub.status.idle": "2025-03-26T09:55:33.013425Z",
     "shell.execute_reply": "2025-03-26T09:55:33.012442Z"
    },
    "papermill": {
     "duration": 41.53552,
     "end_time": "2025-03-26T09:55:33.015282",
     "exception": false,
     "start_time": "2025-03-26T09:54:51.479762",
     "status": "completed"
    },
    "tags": []
   },
   "outputs": [],
   "source": [
    "%%bash\n",
    "cp -r /kaggle/input/images-for-easy-ocr/val/val /kaggle/working/EasyOCR/trainer/all_data"
   ]
  },
  {
   "cell_type": "code",
   "execution_count": 8,
   "id": "6552f815",
   "metadata": {
    "execution": {
     "iopub.execute_input": "2025-03-26T09:55:33.028007Z",
     "iopub.status.busy": "2025-03-26T09:55:33.027782Z",
     "iopub.status.idle": "2025-03-26T09:55:33.031084Z",
     "shell.execute_reply": "2025-03-26T09:55:33.030432Z"
    },
    "papermill": {
     "duration": 0.010601,
     "end_time": "2025-03-26T09:55:33.032226",
     "exception": false,
     "start_time": "2025-03-26T09:55:33.021625",
     "status": "completed"
    },
    "tags": []
   },
   "outputs": [],
   "source": [
    "os.chdir(\"..\")"
   ]
  },
  {
   "cell_type": "code",
   "execution_count": 9,
   "id": "168fed4a",
   "metadata": {
    "execution": {
     "iopub.execute_input": "2025-03-26T09:55:33.043980Z",
     "iopub.status.busy": "2025-03-26T09:55:33.043743Z",
     "iopub.status.idle": "2025-03-26T09:55:33.050519Z",
     "shell.execute_reply": "2025-03-26T09:55:33.049930Z"
    },
    "papermill": {
     "duration": 0.013966,
     "end_time": "2025-03-26T09:55:33.051760",
     "exception": false,
     "start_time": "2025-03-26T09:55:33.037794",
     "status": "completed"
    },
    "tags": []
   },
   "outputs": [
    {
     "name": "stdout",
     "output_type": "stream",
     "text": [
      "/kaggle/working/EasyOCR/trainer\n"
     ]
    }
   ],
   "source": [
    "%%bash\n",
    "pwd"
   ]
  },
  {
   "cell_type": "markdown",
   "id": "211c8b48",
   "metadata": {
    "papermill": {
     "duration": 0.005414,
     "end_time": "2025-03-26T09:55:33.063455",
     "exception": false,
     "start_time": "2025-03-26T09:55:33.058041",
     "status": "completed"
    },
    "tags": []
   },
   "source": [
    "Теперь нужно заменить в ```JSON``` на имена директории"
   ]
  },
  {
   "cell_type": "code",
   "execution_count": 10,
   "id": "aeb5644e",
   "metadata": {
    "execution": {
     "iopub.execute_input": "2025-03-26T09:55:33.075022Z",
     "iopub.status.busy": "2025-03-26T09:55:33.074815Z",
     "iopub.status.idle": "2025-03-26T09:55:34.110062Z",
     "shell.execute_reply": "2025-03-26T09:55:34.109240Z"
    },
    "papermill": {
     "duration": 1.042359,
     "end_time": "2025-03-26T09:55:34.111292",
     "exception": false,
     "start_time": "2025-03-26T09:55:33.068933",
     "status": "completed"
    },
    "tags": []
   },
   "outputs": [
    {
     "data": {
      "text/plain": [
       "'/kaggle/working/EasyOCR/trainer/all_data/train/0_17765.jpg'"
      ]
     },
     "execution_count": 10,
     "metadata": {},
     "output_type": "execute_result"
    }
   ],
   "source": [
    "import pandas as pd\n",
    "input_csv_path = \"/kaggle/working/EasyOCR/trainer/all_data/train/labels.csv\"\n",
    "df = pd.read_csv(input_csv_path)\n",
    "def replace_path(path):\n",
    "    filename = path.split('/')[-1]\n",
    "    new_path = f\"/kaggle/working/EasyOCR/trainer/all_data/train/{filename}\"\n",
    "    return new_path\n",
    "\n",
    "df['filename'] = df['filename'].apply(replace_path)\n",
    "df.to_csv(input_csv_path, index=False)\n",
    "df['filename'].values[0]"
   ]
  },
  {
   "cell_type": "code",
   "execution_count": 11,
   "id": "23a5fad3",
   "metadata": {
    "execution": {
     "iopub.execute_input": "2025-03-26T09:55:34.123723Z",
     "iopub.status.busy": "2025-03-26T09:55:34.123442Z",
     "iopub.status.idle": "2025-03-26T09:55:34.199869Z",
     "shell.execute_reply": "2025-03-26T09:55:34.199193Z"
    },
    "papermill": {
     "duration": 0.083828,
     "end_time": "2025-03-26T09:55:34.201185",
     "exception": false,
     "start_time": "2025-03-26T09:55:34.117357",
     "status": "completed"
    },
    "tags": []
   },
   "outputs": [
    {
     "data": {
      "text/plain": [
       "'/kaggle/working/EasyOCR/trainer/all_data/val/0_lhr_0_861_01020023.jpg'"
      ]
     },
     "execution_count": 11,
     "metadata": {},
     "output_type": "execute_result"
    }
   ],
   "source": [
    "input_csv_path = \"/kaggle/working/EasyOCR/trainer/all_data/val/labels.csv\"\n",
    "df = pd.read_csv(input_csv_path)\n",
    "def replace_path_val(path):\n",
    "    filename = path.split('/')[-1]\n",
    "    new_path = f\"/kaggle/working/EasyOCR/trainer/all_data/val/{filename}\"\n",
    "    return new_path\n",
    "\n",
    "df['filename'] = df['filename'].apply(replace_path_val)\n",
    "df.to_csv(input_csv_path, index=False)\n",
    "df['filename'].values[0]"
   ]
  },
  {
   "cell_type": "code",
   "execution_count": 12,
   "id": "bae2d720",
   "metadata": {
    "execution": {
     "iopub.execute_input": "2025-03-26T09:55:34.213780Z",
     "iopub.status.busy": "2025-03-26T09:55:34.213476Z",
     "iopub.status.idle": "2025-03-26T09:55:34.338516Z",
     "shell.execute_reply": "2025-03-26T09:55:34.337667Z"
    },
    "papermill": {
     "duration": 0.132903,
     "end_time": "2025-03-26T09:55:34.339896",
     "exception": false,
     "start_time": "2025-03-26T09:55:34.206993",
     "status": "completed"
    },
    "tags": []
   },
   "outputs": [
    {
     "data": {
      "text/html": [
       "<div>\n",
       "<style scoped>\n",
       "    .dataframe tbody tr th:only-of-type {\n",
       "        vertical-align: middle;\n",
       "    }\n",
       "\n",
       "    .dataframe tbody tr th {\n",
       "        vertical-align: top;\n",
       "    }\n",
       "\n",
       "    .dataframe thead th {\n",
       "        text-align: right;\n",
       "    }\n",
       "</style>\n",
       "<table border=\"1\" class=\"dataframe\">\n",
       "  <thead>\n",
       "    <tr style=\"text-align: right;\">\n",
       "      <th></th>\n",
       "      <th>filename</th>\n",
       "      <th>words</th>\n",
       "    </tr>\n",
       "  </thead>\n",
       "  <tbody>\n",
       "    <tr>\n",
       "      <th>0</th>\n",
       "      <td>/kaggle/working/EasyOCR/trainer/all_data/train...</td>\n",
       "      <td>ФОТОКОНКУРС</td>\n",
       "    </tr>\n",
       "    <tr>\n",
       "      <th>1</th>\n",
       "      <td>/kaggle/working/EasyOCR/trainer/all_data/train...</td>\n",
       "      <td>Теремок</td>\n",
       "    </tr>\n",
       "    <tr>\n",
       "      <th>2</th>\n",
       "      <td>/kaggle/working/EasyOCR/trainer/all_data/train...</td>\n",
       "      <td>стул</td>\n",
       "    </tr>\n",
       "    <tr>\n",
       "      <th>3</th>\n",
       "      <td>/kaggle/working/EasyOCR/trainer/all_data/train...</td>\n",
       "      <td>Нина</td>\n",
       "    </tr>\n",
       "    <tr>\n",
       "      <th>4</th>\n",
       "      <td>/kaggle/working/EasyOCR/trainer/all_data/train...</td>\n",
       "      <td>мчс россии</td>\n",
       "    </tr>\n",
       "  </tbody>\n",
       "</table>\n",
       "</div>"
      ],
      "text/plain": [
       "                                            filename        words\n",
       "0  /kaggle/working/EasyOCR/trainer/all_data/train...  ФОТОКОНКУРС\n",
       "1  /kaggle/working/EasyOCR/trainer/all_data/train...      Теремок\n",
       "2  /kaggle/working/EasyOCR/trainer/all_data/train...         стул\n",
       "3  /kaggle/working/EasyOCR/trainer/all_data/train...         Нина\n",
       "4  /kaggle/working/EasyOCR/trainer/all_data/train...   мчс россии"
      ]
     },
     "execution_count": 12,
     "metadata": {},
     "output_type": "execute_result"
    }
   ],
   "source": [
    "input_csv_path = \"/kaggle/working/EasyOCR/trainer/all_data/train/labels.csv\"\n",
    "df = pd.read_csv(input_csv_path)\n",
    "df.head()"
   ]
  },
  {
   "cell_type": "code",
   "execution_count": 13,
   "id": "3e5f9cfc",
   "metadata": {
    "execution": {
     "iopub.execute_input": "2025-03-26T09:55:34.352751Z",
     "iopub.status.busy": "2025-03-26T09:55:34.352490Z",
     "iopub.status.idle": "2025-03-26T09:55:34.386218Z",
     "shell.execute_reply": "2025-03-26T09:55:34.385532Z"
    },
    "papermill": {
     "duration": 0.04117,
     "end_time": "2025-03-26T09:55:34.387417",
     "exception": false,
     "start_time": "2025-03-26T09:55:34.346247",
     "status": "completed"
    },
    "tags": []
   },
   "outputs": [
    {
     "data": {
      "text/html": [
       "<div>\n",
       "<style scoped>\n",
       "    .dataframe tbody tr th:only-of-type {\n",
       "        vertical-align: middle;\n",
       "    }\n",
       "\n",
       "    .dataframe tbody tr th {\n",
       "        vertical-align: top;\n",
       "    }\n",
       "\n",
       "    .dataframe thead th {\n",
       "        text-align: right;\n",
       "    }\n",
       "</style>\n",
       "<table border=\"1\" class=\"dataframe\">\n",
       "  <thead>\n",
       "    <tr style=\"text-align: right;\">\n",
       "      <th></th>\n",
       "      <th>filename</th>\n",
       "      <th>words</th>\n",
       "    </tr>\n",
       "  </thead>\n",
       "  <tbody>\n",
       "    <tr>\n",
       "      <th>0</th>\n",
       "      <td>/kaggle/working/EasyOCR/trainer/all_data/val/0...</td>\n",
       "      <td>Чуйкова</td>\n",
       "    </tr>\n",
       "    <tr>\n",
       "      <th>1</th>\n",
       "      <td>/kaggle/working/EasyOCR/trainer/all_data/val/3...</td>\n",
       "      <td>СОГЛАСОВАНО</td>\n",
       "    </tr>\n",
       "    <tr>\n",
       "      <th>2</th>\n",
       "      <td>/kaggle/working/EasyOCR/trainer/all_data/val/0...</td>\n",
       "      <td>Рымша Лезина истово</td>\n",
       "    </tr>\n",
       "    <tr>\n",
       "      <th>3</th>\n",
       "      <td>/kaggle/working/EasyOCR/trainer/all_data/val/0...</td>\n",
       "      <td>лохмы Казачек</td>\n",
       "    </tr>\n",
       "    <tr>\n",
       "      <th>4</th>\n",
       "      <td>/kaggle/working/EasyOCR/trainer/all_data/val/0...</td>\n",
       "      <td>ваш консалтинг ооо ваш консалтинг Бухгалтерско...</td>\n",
       "    </tr>\n",
       "  </tbody>\n",
       "</table>\n",
       "</div>"
      ],
      "text/plain": [
       "                                            filename  \\\n",
       "0  /kaggle/working/EasyOCR/trainer/all_data/val/0...   \n",
       "1  /kaggle/working/EasyOCR/trainer/all_data/val/3...   \n",
       "2  /kaggle/working/EasyOCR/trainer/all_data/val/0...   \n",
       "3  /kaggle/working/EasyOCR/trainer/all_data/val/0...   \n",
       "4  /kaggle/working/EasyOCR/trainer/all_data/val/0...   \n",
       "\n",
       "                                               words  \n",
       "0                                            Чуйкова  \n",
       "1                                        СОГЛАСОВАНО  \n",
       "2                                Рымша Лезина истово  \n",
       "3                                      лохмы Казачек  \n",
       "4  ваш консалтинг ооо ваш консалтинг Бухгалтерско...  "
      ]
     },
     "execution_count": 13,
     "metadata": {},
     "output_type": "execute_result"
    }
   ],
   "source": [
    "input_csv_path = \"/kaggle/working/EasyOCR/trainer/all_data/val/labels.csv\"\n",
    "df = pd.read_csv(input_csv_path)\n",
    "df.head()"
   ]
  },
  {
   "cell_type": "markdown",
   "id": "c5846bbf",
   "metadata": {
    "papermill": {
     "duration": 0.005749,
     "end_time": "2025-03-26T09:55:34.399538",
     "exception": false,
     "start_time": "2025-03-26T09:55:34.393789",
     "status": "completed"
    },
    "tags": []
   },
   "source": [
    "Теперь пробуем обучить"
   ]
  },
  {
   "cell_type": "code",
   "execution_count": 14,
   "id": "a82edf53",
   "metadata": {
    "execution": {
     "iopub.execute_input": "2025-03-26T09:55:34.412008Z",
     "iopub.status.busy": "2025-03-26T09:55:34.411780Z",
     "iopub.status.idle": "2025-03-26T09:55:43.216402Z",
     "shell.execute_reply": "2025-03-26T09:55:43.215419Z"
    },
    "papermill": {
     "duration": 8.812525,
     "end_time": "2025-03-26T09:55:43.218021",
     "exception": false,
     "start_time": "2025-03-26T09:55:34.405496",
     "status": "completed"
    },
    "tags": []
   },
   "outputs": [],
   "source": [
    "import os\n",
    "import torch.backends.cudnn as cudnn\n",
    "import yaml\n",
    "from train import train\n",
    "from utils import AttrDict\n",
    "import pandas as pd"
   ]
  },
  {
   "cell_type": "code",
   "execution_count": 15,
   "id": "3f9c2ef8",
   "metadata": {
    "execution": {
     "iopub.execute_input": "2025-03-26T09:55:43.233300Z",
     "iopub.status.busy": "2025-03-26T09:55:43.232881Z",
     "iopub.status.idle": "2025-03-26T09:55:43.236492Z",
     "shell.execute_reply": "2025-03-26T09:55:43.235659Z"
    },
    "papermill": {
     "duration": 0.012203,
     "end_time": "2025-03-26T09:55:43.238029",
     "exception": false,
     "start_time": "2025-03-26T09:55:43.225826",
     "status": "completed"
    },
    "tags": []
   },
   "outputs": [],
   "source": [
    "cudnn.benchmark = True\n",
    "cudnn.deterministic = False"
   ]
  },
  {
   "cell_type": "code",
   "execution_count": 16,
   "id": "4994b4af",
   "metadata": {
    "execution": {
     "iopub.execute_input": "2025-03-26T09:55:43.250424Z",
     "iopub.status.busy": "2025-03-26T09:55:43.250217Z",
     "iopub.status.idle": "2025-03-26T09:55:43.255349Z",
     "shell.execute_reply": "2025-03-26T09:55:43.254743Z"
    },
    "papermill": {
     "duration": 0.012523,
     "end_time": "2025-03-26T09:55:43.256505",
     "exception": false,
     "start_time": "2025-03-26T09:55:43.243982",
     "status": "completed"
    },
    "tags": []
   },
   "outputs": [],
   "source": [
    "def get_config(file_path):\n",
    "    with open(file_path, 'r', encoding=\"utf8\") as stream:\n",
    "        opt = yaml.safe_load(stream)\n",
    "    opt = AttrDict(opt)\n",
    "    if opt.lang_char == 'None':\n",
    "        characters = ''\n",
    "        for data in opt['select_data'].split('-'):\n",
    "            csv_path = os.path.join(opt['train_data'], data, 'labels.csv')\n",
    "            df = pd.read_csv(csv_path, sep='^([^,]+),', engine='python', usecols=['filename', 'words'], keep_default_na=False)\n",
    "            all_char = ''.join(df['words'])\n",
    "            characters += ''.join(set(all_char))\n",
    "        characters = sorted(set(characters))\n",
    "        opt.character= ''.join(characters)\n",
    "    else:\n",
    "        opt.character = opt.number + opt.symbol + opt.lang_char\n",
    "    os.makedirs(f'./saved_models/{opt.experiment_name}', exist_ok=True)\n",
    "    return opt"
   ]
  },
  {
   "cell_type": "code",
   "execution_count": 17,
   "id": "224c082c",
   "metadata": {
    "execution": {
     "iopub.execute_input": "2025-03-26T09:55:43.268897Z",
     "iopub.status.busy": "2025-03-26T09:55:43.268628Z",
     "iopub.status.idle": "2025-03-26T11:31:14.703223Z",
     "shell.execute_reply": "2025-03-26T11:31:14.701536Z"
    },
    "papermill": {
     "duration": 5731.447218,
     "end_time": "2025-03-26T11:31:14.709482",
     "exception": true,
     "start_time": "2025-03-26T09:55:43.262264",
     "status": "failed"
    },
    "tags": []
   },
   "outputs": [
    {
     "name": "stdout",
     "output_type": "stream",
     "text": [
      "Filtering the images containing characters which are not in opt.character\n",
      "Filtering the images whose label is longer than opt.batch_max_length\n",
      "--------------------------------------------------------------------------------\n",
      "dataset_root: all_data/train\n",
      "opt.select_data: ['all_data/train']\n",
      "opt.batch_ratio: ['1']\n",
      "--------------------------------------------------------------------------------\n",
      "dataset_root:    all_data/train\t dataset: all_data/train\n",
      "all_data/train/\n",
      "sub-directory:\t/.\t num samples: 50794\n",
      "num total samples of all_data/train: 50794 x 1.0 (total_data_usage_ratio) = 50794\n",
      "num samples of all_data/train per batch: 64 x 1.0 (batch_ratio) = 64\n"
     ]
    },
    {
     "name": "stderr",
     "output_type": "stream",
     "text": [
      "/usr/local/lib/python3.10/dist-packages/torch/utils/data/dataloader.py:617: UserWarning: This DataLoader will create 6 worker processes in total. Our suggested max number of worker in current system is 4, which is smaller than what this DataLoader is going to create. Please be aware that excessive worker creation might get DataLoader running slow or even freeze, lower the worker number to avoid potential slowness/freeze if necessary.\n",
      "  warnings.warn(\n"
     ]
    },
    {
     "name": "stdout",
     "output_type": "stream",
     "text": [
      "--------------------------------------------------------------------------------\n",
      "Total_batch_size: 64 = 64\n",
      "--------------------------------------------------------------------------------\n",
      "dataset_root:    all_data/val\t dataset: /\n",
      "all_data/val/\n",
      "sub-directory:\t/.\t num samples: 12687\n",
      "--------------------------------------------------------------------------------\n",
      "No Transformation module specified\n",
      "model input parameters 64 600 20 1 256 256 208 68 None VGG BiLSTM CTC\n"
     ]
    },
    {
     "name": "stderr",
     "output_type": "stream",
     "text": [
      "/usr/local/lib/python3.10/dist-packages/torch/utils/data/dataloader.py:617: UserWarning: This DataLoader will create 6 worker processes in total. Our suggested max number of worker in current system is 4, which is smaller than what this DataLoader is going to create. Please be aware that excessive worker creation might get DataLoader running slow or even freeze, lower the worker number to avoid potential slowness/freeze if necessary.\n",
      "  warnings.warn(\n",
      "/kaggle/working/EasyOCR/trainer/train.py:74: FutureWarning: You are using `torch.load` with `weights_only=False` (the current default value), which uses the default pickle module implicitly. It is possible to construct malicious pickle data which will execute arbitrary code during unpickling (See https://github.com/pytorch/pytorch/blob/main/SECURITY.md#untrusted-models for more details). In a future release, the default value for `weights_only` will be flipped to `True`. This limits the functions that could be executed during unpickling. Arbitrary objects will no longer be allowed to be loaded via this mode unless they are explicitly allowlisted by the user via `torch.serialization.add_safe_globals`. We recommend you start setting `weights_only=True` for any use case where you don't have full control of the loaded file. Please open an issue on GitHub for any issues related to this experimental feature.\n",
      "  pretrained_dict = torch.load(opt.saved_model, map_location=device)\n"
     ]
    },
    {
     "name": "stdout",
     "output_type": "stream",
     "text": [
      "loading pretrained model from saved_models/best_accuracy.pth\n",
      "Model:\n",
      "DataParallel(\n",
      "  (module): Model(\n",
      "    (FeatureExtraction): VGG_FeatureExtractor(\n",
      "      (ConvNet): Sequential(\n",
      "        (0): Conv2d(1, 32, kernel_size=(3, 3), stride=(1, 1), padding=(1, 1))\n",
      "        (1): ReLU(inplace=True)\n",
      "        (2): MaxPool2d(kernel_size=2, stride=2, padding=0, dilation=1, ceil_mode=False)\n",
      "        (3): Conv2d(32, 64, kernel_size=(3, 3), stride=(1, 1), padding=(1, 1))\n",
      "        (4): ReLU(inplace=True)\n",
      "        (5): MaxPool2d(kernel_size=2, stride=2, padding=0, dilation=1, ceil_mode=False)\n",
      "        (6): Conv2d(64, 128, kernel_size=(3, 3), stride=(1, 1), padding=(1, 1))\n",
      "        (7): ReLU(inplace=True)\n",
      "        (8): Conv2d(128, 128, kernel_size=(3, 3), stride=(1, 1), padding=(1, 1))\n",
      "        (9): ReLU(inplace=True)\n",
      "        (10): MaxPool2d(kernel_size=(2, 1), stride=(2, 1), padding=0, dilation=1, ceil_mode=False)\n",
      "        (11): Conv2d(128, 256, kernel_size=(3, 3), stride=(1, 1), padding=(1, 1), bias=False)\n",
      "        (12): BatchNorm2d(256, eps=1e-05, momentum=0.1, affine=True, track_running_stats=True)\n",
      "        (13): ReLU(inplace=True)\n",
      "        (14): Conv2d(256, 256, kernel_size=(3, 3), stride=(1, 1), padding=(1, 1), bias=False)\n",
      "        (15): BatchNorm2d(256, eps=1e-05, momentum=0.1, affine=True, track_running_stats=True)\n",
      "        (16): ReLU(inplace=True)\n",
      "        (17): MaxPool2d(kernel_size=(2, 1), stride=(2, 1), padding=0, dilation=1, ceil_mode=False)\n",
      "        (18): Conv2d(256, 256, kernel_size=(2, 2), stride=(1, 1))\n",
      "        (19): ReLU(inplace=True)\n",
      "      )\n",
      "    )\n",
      "    (AdaptiveAvgPool): AdaptiveAvgPool2d(output_size=(None, 1))\n",
      "    (SequenceModeling): Sequential(\n",
      "      (0): BidirectionalLSTM(\n",
      "        (rnn): LSTM(256, 256, batch_first=True, bidirectional=True)\n",
      "        (linear): Linear(in_features=512, out_features=256, bias=True)\n",
      "      )\n",
      "      (1): BidirectionalLSTM(\n",
      "        (rnn): LSTM(256, 256, batch_first=True, bidirectional=True)\n",
      "        (linear): Linear(in_features=512, out_features=256, bias=True)\n",
      "      )\n",
      "    )\n",
      "    (Prediction): Linear(in_features=256, out_features=208, bias=True)\n",
      "  )\n",
      ")\n",
      "Modules, Parameters\n",
      "module.FeatureExtraction.ConvNet.0.weight 288\n",
      "module.FeatureExtraction.ConvNet.0.bias 32\n",
      "module.FeatureExtraction.ConvNet.3.weight 18432\n",
      "module.FeatureExtraction.ConvNet.3.bias 64\n",
      "module.FeatureExtraction.ConvNet.6.weight 73728\n",
      "module.FeatureExtraction.ConvNet.6.bias 128\n",
      "module.FeatureExtraction.ConvNet.8.weight 147456\n",
      "module.FeatureExtraction.ConvNet.8.bias 128\n",
      "module.FeatureExtraction.ConvNet.11.weight 294912\n",
      "module.FeatureExtraction.ConvNet.12.weight 256\n",
      "module.FeatureExtraction.ConvNet.12.bias 256\n",
      "module.FeatureExtraction.ConvNet.14.weight 589824\n",
      "module.FeatureExtraction.ConvNet.15.weight 256\n",
      "module.FeatureExtraction.ConvNet.15.bias 256\n",
      "module.FeatureExtraction.ConvNet.18.weight 262144\n",
      "module.FeatureExtraction.ConvNet.18.bias 256\n",
      "module.SequenceModeling.0.rnn.weight_ih_l0 262144\n",
      "module.SequenceModeling.0.rnn.weight_hh_l0 262144\n",
      "module.SequenceModeling.0.rnn.bias_ih_l0 1024\n",
      "module.SequenceModeling.0.rnn.bias_hh_l0 1024\n",
      "module.SequenceModeling.0.rnn.weight_ih_l0_reverse 262144\n",
      "module.SequenceModeling.0.rnn.weight_hh_l0_reverse 262144\n",
      "module.SequenceModeling.0.rnn.bias_ih_l0_reverse 1024\n",
      "module.SequenceModeling.0.rnn.bias_hh_l0_reverse 1024\n",
      "module.SequenceModeling.0.linear.weight 131072\n",
      "module.SequenceModeling.0.linear.bias 256\n",
      "module.SequenceModeling.1.rnn.weight_ih_l0 262144\n",
      "module.SequenceModeling.1.rnn.weight_hh_l0 262144\n",
      "module.SequenceModeling.1.rnn.bias_ih_l0 1024\n",
      "module.SequenceModeling.1.rnn.bias_hh_l0 1024\n",
      "module.SequenceModeling.1.rnn.weight_ih_l0_reverse 262144\n",
      "module.SequenceModeling.1.rnn.weight_hh_l0_reverse 262144\n",
      "module.SequenceModeling.1.rnn.bias_ih_l0_reverse 1024\n",
      "module.SequenceModeling.1.rnn.bias_hh_l0_reverse 1024\n",
      "module.SequenceModeling.1.linear.weight 131072\n",
      "module.SequenceModeling.1.linear.bias 256\n",
      "module.Prediction.weight 53248\n",
      "module.Prediction.bias 208\n",
      "Total Trainable Params: 3809872\n",
      "Trainable params num :  3809872\n",
      "Optimizer:\n",
      "Adadelta (\n",
      "Parameter Group 0\n",
      "    capturable: False\n",
      "    differentiable: False\n",
      "    eps: 1e-08\n",
      "    foreach: None\n",
      "    lr: 1.0\n",
      "    maximize: False\n",
      "    rho: 0.95\n",
      "    weight_decay: 0\n",
      ")\n",
      "------------ Options -------------\n",
      "number: 0123456789\n",
      "symbol: !\"#$%&'()*+,-./:;<=>?@[\\]№_`{|}~ €₽\n",
      "lang_char: ABCDEFGHIJKLMNOPQRSTUVWXYZabcdefghijklmnopqrstuvwxyzАБВГДЕЁЖЗИЙКЛМНОПРСТУФХЦЧШЩЪЫЬЭЮЯабвгдеёжзийклмнопрстуфхцчшщъыьэюяЂђЃѓЄєІіЇїЈјЉљЊњЋћЌќЎўЏџҐґҒғҚқҮүҲҳҶҷӀӏӢӣӨөӮӯ\n",
      "experiment_name: rus_filtered\n",
      "train_data: all_data/train\n",
      "valid_data: all_data/val\n",
      "manualSeed: 1111\n",
      "workers: 6\n",
      "batch_size: 64\n",
      "num_iter: 30000\n",
      "valInterval: 2000\n",
      "saved_model: saved_models/best_accuracy.pth\n",
      "FT: False\n",
      "optim: False\n",
      "lr: 1.0\n",
      "beta1: 0.9\n",
      "rho: 0.95\n",
      "eps: 1e-08\n",
      "grad_clip: 5\n",
      "select_data: ['all_data/train']\n",
      "batch_ratio: ['1']\n",
      "total_data_usage_ratio: 1.0\n",
      "batch_max_length: 68\n",
      "imgH: 64\n",
      "imgW: 600\n",
      "rgb: False\n",
      "contrast_adjust: 0.0\n",
      "sensitive: True\n",
      "PAD: True\n",
      "data_filtering_off: False\n",
      "Transformation: None\n",
      "FeatureExtraction: VGG\n",
      "SequenceModeling: BiLSTM\n",
      "Prediction: CTC\n",
      "num_fiducial: 20\n",
      "input_channel: 1\n",
      "output_channel: 256\n",
      "hidden_size: 256\n",
      "decode: greedy\n",
      "new_prediction: False\n",
      "freeze_FeatureFxtraction: False\n",
      "freeze_SequenceModeling: False\n",
      "character: 0123456789!\"#$%&'()*+,-./:;<=>?@[\\]№_`{|}~ €₽ABCDEFGHIJKLMNOPQRSTUVWXYZabcdefghijklmnopqrstuvwxyzАБВГДЕЁЖЗИЙКЛМНОПРСТУФХЦЧШЩЪЫЬЭЮЯабвгдеёжзийклмнопрстуфхцчшщъыьэюяЂђЃѓЄєІіЇїЈјЉљЊњЋћЌќЎўЏџҐґҒғҚқҮүҲҳҶҷӀӏӢӣӨөӮӯ\n",
      "num_class: 208\n",
      "---------------------------------------\n",
      "\n"
     ]
    },
    {
     "name": "stderr",
     "output_type": "stream",
     "text": [
      "/kaggle/working/EasyOCR/trainer/train.py:177: FutureWarning: `torch.cuda.amp.GradScaler(args...)` is deprecated. Please use `torch.amp.GradScaler('cuda', args...)` instead.\n",
      "  scaler = GradScaler()\n"
     ]
    },
    {
     "name": "stdout",
     "output_type": "stream",
     "text": [
      "training time:  309.47163367271423\n",
      "[2000/30000] Train loss: 0.96759, Valid loss: 1.42256, Elapsed_time: 309.47219\n",
      "Current_accuracy : 38.725, Current_norm_ED  : 0.6648\n",
      "Best_accuracy    : 38.725, Best_norm_ED     : 0.6648\n",
      "--------------------------------------------------------------------------------\n",
      "Ground Truth              | Prediction                | Confidence Score & T/F\n",
      "--------------------------------------------------------------------------------\n",
      "Наумкина                  | Наумкина                  | 0.4886\tTrue\n",
      "гробик Молдавия           | гробик аррав              | 0.0000\tFalse\n",
      "--------------------------------------------------------------------------------\n",
      "validation time:  81.42475771903992\n",
      "training time:  301.41205883026123\n",
      "[4000/30000] Train loss: 0.90867, Valid loss: 1.42504, Elapsed_time: 692.30958\n",
      "Current_accuracy : 39.198, Current_norm_ED  : 0.6655\n",
      "Best_accuracy    : 39.198, Best_norm_ED     : 0.6655\n",
      "--------------------------------------------------------------------------------\n",
      "Ground Truth              | Prediction                | Confidence Score & T/F\n",
      "--------------------------------------------------------------------------------\n",
      "МО                        | мо                        | 0.7153\tFalse\n",
      "Капитан                   | Напитан                   | 0.7945\tFalse\n",
      "--------------------------------------------------------------------------------\n",
      "validation time:  79.58002066612244\n",
      "training time:  303.23815751075745\n",
      "[6000/30000] Train loss: 0.87118, Valid loss: 1.50507, Elapsed_time: 1075.12818\n",
      "Current_accuracy : 38.851, Current_norm_ED  : 0.6581\n",
      "Best_accuracy    : 39.198, Best_norm_ED     : 0.6655\n",
      "--------------------------------------------------------------------------------\n",
      "Ground Truth              | Prediction                | Confidence Score & T/F\n",
      "--------------------------------------------------------------------------------\n",
      "песок Заруба              | песок ар                  | 0.0000\tFalse\n",
      "валенок                   | валенок                   | 0.5760\tTrue\n",
      "--------------------------------------------------------------------------------\n",
      "validation time:  80.12599039077759\n",
      "training time:  302.8659436702728\n",
      "[8000/30000] Train loss: 0.82470, Valid loss: 1.55961, Elapsed_time: 1458.12053\n",
      "Current_accuracy : 39.276, Current_norm_ED  : 0.6675\n",
      "Best_accuracy    : 39.276, Best_norm_ED     : 0.6675\n",
      "--------------------------------------------------------------------------------\n",
      "Ground Truth              | Prediction                | Confidence Score & T/F\n",
      "--------------------------------------------------------------------------------\n",
      "К НОВОЙ ОФИЦИАЛЬНОЙ ДЕМОНСТРАЦИОННОЙ ВЕРСИИ | К НОВОЙ ОФИЦИАЛЬНОЙ       | 0.0000\tFalse\n",
      "ФЕДЕРАЛ ПРЕСС             | ФЕдЕРАЛ                   | 0.0001\tFalse\n",
      "--------------------------------------------------------------------------------\n",
      "validation time:  79.6472578048706\n",
      "training time:  302.03204369544983\n",
      "[10000/30000] Train loss: 0.77568, Valid loss: 1.60336, Elapsed_time: 1839.80093\n",
      "Current_accuracy : 39.284, Current_norm_ED  : 0.6705\n",
      "Best_accuracy    : 39.284, Best_norm_ED     : 0.6705\n",
      "--------------------------------------------------------------------------------\n",
      "Ground Truth              | Prediction                | Confidence Score & T/F\n",
      "--------------------------------------------------------------------------------\n",
      "нести                     | омрьсти                   | 0.0616\tFalse\n",
      "Шатохин цеховик           | Шатокин орн               | 0.0000\tFalse\n",
      "--------------------------------------------------------------------------------\n",
      "validation time:  79.81130361557007\n",
      "training time:  302.19129610061646\n",
      "[12000/30000] Train loss: 0.74826, Valid loss: 1.66101, Elapsed_time: 2221.80450\n",
      "Current_accuracy : 39.355, Current_norm_ED  : 0.6728\n",
      "Best_accuracy    : 39.355, Best_norm_ED     : 0.6728\n",
      "--------------------------------------------------------------------------------\n",
      "Ground Truth              | Prediction                | Confidence Score & T/F\n",
      "--------------------------------------------------------------------------------\n",
      "принизить                 | принизить                 | 0.8960\tTrue\n",
      "Вырвич                    | Вырвич                    | 0.6121\tTrue\n",
      "--------------------------------------------------------------------------------\n",
      "validation time:  79.32850098609924\n",
      "training time:  301.6032032966614\n",
      "[14000/30000] Train loss: 0.71680, Valid loss: 1.64282, Elapsed_time: 2602.73665\n",
      "Current_accuracy : 39.087, Current_norm_ED  : 0.6749\n",
      "Best_accuracy    : 39.355, Best_norm_ED     : 0.6749\n",
      "--------------------------------------------------------------------------------\n",
      "Ground Truth              | Prediction                | Confidence Score & T/F\n",
      "--------------------------------------------------------------------------------\n",
      "ОПТОВА ПОЛИГРА            | ОПТОВ Т                   | 0.0000\tFalse\n",
      "дуст                      | дУст                      | 0.7037\tFalse\n",
      "--------------------------------------------------------------------------------\n",
      "validation time:  79.18330526351929\n",
      "training time:  302.796706199646\n",
      "[16000/30000] Train loss: 0.69571, Valid loss: 1.76952, Elapsed_time: 2984.71704\n",
      "Current_accuracy : 38.945, Current_norm_ED  : 0.6715\n",
      "Best_accuracy    : 39.355, Best_norm_ED     : 0.6749\n",
      "--------------------------------------------------------------------------------\n",
      "Ground Truth              | Prediction                | Confidence Score & T/F\n",
      "--------------------------------------------------------------------------------\n",
      "трап солдатик замкнуть суета | трап солдатик ратта       | 0.0000\tFalse\n",
      "Гуркин амнезия протухнуть фосфорный | Гуркин амнезия  рн        | 0.0000\tFalse\n",
      "--------------------------------------------------------------------------------\n",
      "validation time:  79.6323812007904\n",
      "training time:  301.92527627944946\n",
      "[18000/30000] Train loss: 0.68786, Valid loss: 1.76779, Elapsed_time: 3366.27507\n",
      "Current_accuracy : 38.985, Current_norm_ED  : 0.6757\n",
      "Best_accuracy    : 39.355, Best_norm_ED     : 0.6757\n",
      "--------------------------------------------------------------------------------\n",
      "Ground Truth              | Prediction                | Confidence Score & T/F\n",
      "--------------------------------------------------------------------------------\n",
      "иди ко мне                | ТИДДЕИК МНГЕ              | 0.0067\tFalse\n",
      "Без тряски и вибраций     | Без тряски пар лн         | 0.0000\tFalse\n",
      "--------------------------------------------------------------------------------\n",
      "validation time:  80.34416365623474\n",
      "training time:  302.306923866272\n",
      "[20000/30000] Train loss: 0.71899, Valid loss: 1.89544, Elapsed_time: 3748.92821\n",
      "Current_accuracy : 39.584, Current_norm_ED  : 0.6603\n",
      "Best_accuracy    : 39.584, Best_norm_ED     : 0.6757\n",
      "--------------------------------------------------------------------------------\n",
      "Ground Truth              | Prediction                | Confidence Score & T/F\n",
      "--------------------------------------------------------------------------------\n",
      "Гуси                      | ГУСИ                      | 0.1489\tFalse\n",
      "гробик Молдавия           | гробик я                  | 0.0008\tFalse\n",
      "--------------------------------------------------------------------------------\n",
      "validation time:  79.14487075805664\n",
      "training time:  301.8575277328491\n",
      "[22000/30000] Train loss: 0.71207, Valid loss: 1.71631, Elapsed_time: 4129.93099\n",
      "Current_accuracy : 37.361, Current_norm_ED  : 0.6596\n",
      "Best_accuracy    : 39.584, Best_norm_ED     : 0.6757\n",
      "--------------------------------------------------------------------------------\n",
      "Ground Truth              | Prediction                | Confidence Score & T/F\n",
      "--------------------------------------------------------------------------------\n",
      "Рыжикова жаба             | Рькикова а                | 0.0000\tFalse\n",
      "сани                      | сани                      | 0.4550\tTrue\n",
      "--------------------------------------------------------------------------------\n",
      "validation time:  79.63801908493042\n",
      "training time:  302.2139325141907\n",
      "[24000/30000] Train loss: 0.74597, Valid loss: 1.80899, Elapsed_time: 4511.78333\n",
      "Current_accuracy : 38.654, Current_norm_ED  : 0.6652\n",
      "Best_accuracy    : 39.584, Best_norm_ED     : 0.6757\n",
      "--------------------------------------------------------------------------------\n",
      "Ground Truth              | Prediction                | Confidence Score & T/F\n",
      "--------------------------------------------------------------------------------\n",
      "Касьянова                 | Касьянова                 | 0.5690\tTrue\n",
      "осыпаться                 | а                         | 0.0016\tFalse\n",
      "--------------------------------------------------------------------------------\n",
      "validation time:  78.98908972740173\n",
      "training time:  300.86441826820374\n",
      "[26000/30000] Train loss: 0.67932, Valid loss: 1.80350, Elapsed_time: 4891.63765\n",
      "Current_accuracy : 37.929, Current_norm_ED  : 0.6548\n",
      "Best_accuracy    : 39.584, Best_norm_ED     : 0.6757\n",
      "--------------------------------------------------------------------------------\n",
      "Ground Truth              | Prediction                | Confidence Score & T/F\n",
      "--------------------------------------------------------------------------------\n",
      "Алькор                    | ААЬКОР                    | 0.9195\tFalse\n",
      "И В ГОТОВУЮ КВАРТИРУ      | И В ГОТОВУЮ               | 0.0000\tFalse\n",
      "--------------------------------------------------------------------------------\n",
      "validation time:  78.10665774345398\n",
      "training time:  301.2656259536743\n",
      "[28000/30000] Train loss: 0.68963, Valid loss: 1.82037, Elapsed_time: 5271.01034\n",
      "Current_accuracy : 39.103, Current_norm_ED  : 0.6794\n",
      "Best_accuracy    : 39.584, Best_norm_ED     : 0.6794\n",
      "--------------------------------------------------------------------------------\n",
      "Ground Truth              | Prediction                | Confidence Score & T/F\n",
      "--------------------------------------------------------------------------------\n",
      "ТРЕЗВОСТЬ НОРМА ЖИЗНИ     | трезвостЬ Е  А            | 0.0000\tFalse\n",
      "мужицкий                  | мужиутий                  | 0.4711\tFalse\n",
      "--------------------------------------------------------------------------------\n",
      "validation time:  79.39458131790161\n",
      "training time:  300.7631642818451\n",
      "[30000/30000] Train loss: 0.64566, Valid loss: 1.86643, Elapsed_time: 5651.16863\n",
      "Current_accuracy : 38.457, Current_norm_ED  : 0.6631\n",
      "Best_accuracy    : 39.584, Best_norm_ED     : 0.6794\n",
      "--------------------------------------------------------------------------------\n",
      "Ground Truth              | Prediction                | Confidence Score & T/F\n",
      "--------------------------------------------------------------------------------\n",
      "ТЕХНОПАРК КУНЦЕВО         | КЕХНОГАРО О               | 0.0000\tFalse\n",
      "флюид крахмал пурим       | фмкыу я                   | 0.0000\tFalse\n",
      "--------------------------------------------------------------------------------\n",
      "validation time:  78.59915781021118\n",
      "end the training\n"
     ]
    },
    {
     "ename": "SystemExit",
     "evalue": "",
     "output_type": "error",
     "traceback": [
      "An exception has occurred, use %tb to see the full traceback.\n",
      "\u001b[0;31mSystemExit\u001b[0m\n"
     ]
    },
    {
     "name": "stderr",
     "output_type": "stream",
     "text": [
      "/usr/local/lib/python3.10/dist-packages/IPython/core/interactiveshell.py:3561: UserWarning: To exit: use 'exit', 'quit', or Ctrl-D.\n",
      "  warn(\"To exit: use 'exit', 'quit', or Ctrl-D.\", stacklevel=1)\n"
     ]
    }
   ],
   "source": [
    "opt = get_config(\"config_files/en_filtered_config.yaml\")\n",
    "train(opt, amp=False)"
   ]
  },
  {
   "cell_type": "code",
   "execution_count": null,
   "id": "9d5c8586",
   "metadata": {
    "papermill": {
     "duration": null,
     "end_time": null,
     "exception": null,
     "start_time": null,
     "status": "pending"
    },
    "tags": []
   },
   "outputs": [],
   "source": []
  }
 ],
 "metadata": {
  "kaggle": {
   "accelerator": "gpu",
   "dataSources": [
    {
     "datasetId": 6971454,
     "sourceId": 11170921,
     "sourceType": "datasetVersion"
    }
   ],
   "dockerImageVersionId": 30919,
   "isGpuEnabled": true,
   "isInternetEnabled": true,
   "language": "python",
   "sourceType": "notebook"
  },
  "kernelspec": {
   "display_name": "Python 3",
   "language": "python",
   "name": "python3"
  },
  "language_info": {
   "codemirror_mode": {
    "name": "ipython",
    "version": 3
   },
   "file_extension": ".py",
   "mimetype": "text/x-python",
   "name": "python",
   "nbconvert_exporter": "python",
   "pygments_lexer": "ipython3",
   "version": "3.10.12"
  },
  "papermill": {
   "default_parameters": {},
   "duration": 5967.701952,
   "end_time": "2025-03-26T11:31:17.758270",
   "environment_variables": {},
   "exception": true,
   "input_path": "__notebook__.ipynb",
   "output_path": "__notebook__.ipynb",
   "parameters": {},
   "start_time": "2025-03-26T09:51:50.056318",
   "version": "2.6.0"
  }
 },
 "nbformat": 4,
 "nbformat_minor": 5
}
