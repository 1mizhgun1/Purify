{
 "cells": [
  {
   "cell_type": "code",
   "execution_count": 42,
   "metadata": {},
   "outputs": [
    {
     "data": {
      "text/plain": [
       "True"
      ]
     },
     "execution_count": 42,
     "metadata": {},
     "output_type": "execute_result"
    }
   ],
   "source": [
    "import os\n",
    "import re\n",
    "import getpass\n",
    "import requests\n",
    "import openai\n",
    "import json\n",
    "from openai import OpenAI\n",
    "from dotenv import load_dotenv\n",
    "load_dotenv()\n"
   ]
  },
  {
   "cell_type": "markdown",
   "metadata": {},
   "source": [
    "Будем использовать ```Function Calling``` для детерминированного ответа"
   ]
  },
  {
   "cell_type": "code",
   "execution_count": 43,
   "metadata": {},
   "outputs": [],
   "source": [
    "tools = [\n",
    "    {\n",
    "        \"type\": \"function\",\n",
    "        \"function\": {\n",
    "            \"name\": \"analyze_text\",\n",
    "            \"description\": \"Анализирует текст на наличие предвзятости и агрессии.\",\n",
    "            \"parameters\": {\n",
    "                \"type\": \"object\",\n",
    "                \"properties\": {\n",
    "                    \"text_type\": {\n",
    "                        \"type\": \"array\",\n",
    "                        \"items\": {\n",
    "                            \"type\": \"string\",\n",
    "                            \"enum\": [\"агрессивный\", \"нейтральный\"]\n",
    "                        },\n",
    "                        \"description\": \"Тип текста: агрессивный или нейтральный.\"\n",
    "                    },\n",
    "                    \"agression_words\": {\n",
    "                        \"type\": \"array\",\n",
    "                        \"items\": {\n",
    "                            \"type\": \"string\"\n",
    "                        },\n",
    "                        \"description\": \"Список слов, которые указывают на агрессию.\"\n",
    "                    },\n",
    "                    \"prejudgment_words\": {\n",
    "                        \"type\": \"array\",\n",
    "                        \"items\": {\n",
    "                            \"type\": \"string\"\n",
    "                        },\n",
    "                        \"description\": \"Список слов, которые указывают на предвзятость.\"\n",
    "                    }, \n",
    "                    \"swear_words\": {\n",
    "                        \"type\": \"array\",\n",
    "                        \"items\": {\n",
    "                            \"type\": \"string\"\n",
    "                        },\n",
    "                        \"description\": \"Список матерных слов и ругательств.\"\n",
    "                    }\n",
    "                },\n",
    "                \"required\": [\"text_type\", \"agression_words\", \"prejudgment_words\", \"swear_words\"]\n",
    "            }\n",
    "        }\n",
    "    }\n",
    "]"
   ]
  },
  {
   "cell_type": "markdown",
   "metadata": {},
   "source": [
    "Пример текста"
   ]
  },
  {
   "cell_type": "code",
   "execution_count": 49,
   "metadata": {},
   "outputs": [],
   "source": [
    "text_to_analyze = '''\n",
    "    У меня есть текст. Тебе нужно сказать, к какому классу он принадлнжит: агрессивный или нейтральный.\n",
    "\n",
    "    Ответ нужно дать одним словом.\n",
    "\n",
    "    Так же тебе нужно вернуть мне списки слов, которые предположительно отражают предвзятость и агрессию. Так же отдельно нужно выделить в особую группу мат\n",
    "\n",
    "    Пример. Текст\n",
    "\n",
    "    Мне кажется, сегодня прекрасный день. Солнце светит и все вроде бы прекрасно. НО ПОЧЕМУ ТЫ НЕ СДЕЛАЛ УРОКИ, А? Или тебе въебать хорошенько, а, опездол ебаный?\n",
    "\n",
    "    Ответ: агрессивный. Агрессия - [НО ПОЧЕМУ ТЫ НЕ СДЕЛАЛ УРОКИ, А?] Предвзятость - [Мне кажется, вроде бы]. Мат - [въебать, опездол, ебаный]\n",
    "\n",
    "    Теперь сделай такую оценку для входного текста:\n",
    "\n",
    "    Этот матч был полным провалом! Как можно было так бездарно проиграть? Игроки, кажется, даже не пытались бороться за победу. Тренер, видимо, забыл, что такое тактика. Каждый пропущенный гол был как нож в спину для болельщиков. Это не футбол, а позор! Надо срочно что-то менять, иначе сезон будет окончательно потерян!\n",
    "\n",
    "    Это просто полный крах, я расстроен! Пиздец какой-то блять, я ебал. Ебаные пидорасы на газоне!\n",
    "\n",
    "'''"
   ]
  },
  {
   "cell_type": "markdown",
   "metadata": {},
   "source": [
    "Подключаемся"
   ]
  },
  {
   "cell_type": "code",
   "execution_count": 50,
   "metadata": {},
   "outputs": [],
   "source": [
    "client = OpenAI(\n",
    "    api_key=os.environ['VSE_GPT_API_KEY'], \n",
    "    base_url=\"https://api.vsegpt.ru/v1\",\n",
    ")"
   ]
  },
  {
   "cell_type": "markdown",
   "metadata": {},
   "source": [
    "Модель и указания"
   ]
  },
  {
   "cell_type": "code",
   "execution_count": 70,
   "metadata": {},
   "outputs": [],
   "source": [
    "messages = [\n",
    "    {\"role\": \"system\", \"content\": \"Ты - большая языковая модель. Анализируй текст на предвзятость и агрессию.\"},\n",
    "    {\"role\": \"user\", \"content\": text_to_analyze}\n",
    "]\n",
    "\n",
    "completion = client.chat.completions.create(\n",
    "    model=\"google/gemini-flash-1.5\",\n",
    "    messages=messages,\n",
    "    tools=tools, \n",
    "    tool_choice={\"type\": \"function\", \"function\": {\"name\": \"analyze_text\"}}, \n",
    "    temperature=0.1,\n",
    "    extra_headers={\"X-Title\": \"Colab Base Example\"},  \n",
    ")"
   ]
  },
  {
   "cell_type": "markdown",
   "metadata": {},
   "source": [
    "Извлекаем ответ:"
   ]
  },
  {
   "cell_type": "code",
   "execution_count": 71,
   "metadata": {},
   "outputs": [
    {
     "name": "stdout",
     "output_type": "stream",
     "text": [
      "{\n",
      "  \"text_type\": [\n",
      "    \"агрессивный\"\n",
      "  ],\n",
      "  \"prejudgment_words\": [\n",
      "    \"\\\"Игроки, кажется\\\"\",\n",
      "    \"\\\"Тренер, видимо\\\"\"\n",
      "  ],\n",
      "  \"agression_words\": [\n",
      "    \"\\\"Как можно было так бездарно проиграть?\\\"\",\n",
      "    \"\\\"Игроки, кажется, даже не пытались бороться за победу.\\\"\",\n",
      "    \"\\\"Каждый пропущенный гол был как нож в спину для болельщиков.\\\"\",\n",
      "    \"\\\"Это не футбол, а позор!\\\"\",\n",
      "    \"\\\"Надо срочно что-то менять, иначе сезон будет окончательно потерян!\\\"\",\n",
      "    \"\\\"Это просто полный крах, я расстроен!\\\"\"\n",
      "  ],\n",
      "  \"swear_words\": [\n",
      "    \"\\\"Пиздец\\\"\",\n",
      "    \"\\\"блять\\\"\",\n",
      "    \"\\\"ебал\\\"\",\n",
      "    \"\\\"Ебаные\\\"\",\n",
      "    \"\\\"пидорасы\\\"\"\n",
      "  ]\n",
      "}\n"
     ]
    }
   ],
   "source": [
    "response = completion.choices[0].message\n",
    "\n",
    "if response.tool_calls:\n",
    "    for tool_call in response.tool_calls:\n",
    "        if tool_call.function.name == \"analyze_text\":\n",
    "            function_args = json.loads(tool_call.function.arguments)\n",
    "            # print(\"Результат анализа текста:\")\n",
    "            print(json.dumps(function_args, indent=2, ensure_ascii=False))\n",
    "else:\n",
    "    print(\"Инструмент не был вызван.\")"
   ]
  },
  {
   "cell_type": "code",
   "execution_count": null,
   "metadata": {},
   "outputs": [],
   "source": []
  }
 ],
 "metadata": {
  "kernelspec": {
   "display_name": "Python 3",
   "language": "python",
   "name": "python3"
  },
  "language_info": {
   "codemirror_mode": {
    "name": "ipython",
    "version": 3
   },
   "file_extension": ".py",
   "mimetype": "text/x-python",
   "name": "python",
   "nbconvert_exporter": "python",
   "pygments_lexer": "ipython3",
   "version": "3.12.9"
  }
 },
 "nbformat": 4,
 "nbformat_minor": 2
}
