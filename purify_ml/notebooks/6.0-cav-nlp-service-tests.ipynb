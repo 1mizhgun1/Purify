{
 "cells": [
  {
   "cell_type": "code",
   "execution_count": 3,
   "metadata": {},
   "outputs": [
    {
     "name": "stdout",
     "output_type": "stream",
     "text": [
      "\n",
      "=== Тестовая группа 1 ===\n",
      "\n",
      "Запрос:\n",
      "['\\n'\n",
      " 'Либесралы просто предлагают русским не умирать миллионами за хуцпу хуйла.\\n'\n",
      " 'Кто же виноват, что русские такие суицидальные долбаебы? Видимо, это от группового отбора, осознание своей '\n",
      " 'генетической и культурной ущербности.\\n']\n",
      "\n",
      "Ответ:\n",
      "[{'block': '\\n'\n",
      "           'Либесралы просто предлагают русским не умирать миллионами за хуцпу хуйла.\\n'\n",
      "           'Кто же виноват, что русские такие суицидальные долбаебы? Видимо, это от группового отбора, осознание своей '\n",
      "           'генетической и культурной ущербности.\\n',\n",
      "  'negative_words': ['Либесралы', 'виноват,', 'умирать', 'хуйла.', 'долбаебы?', 'ущербности.']}]\n",
      "\n",
      "==================================================\n",
      "\n"
     ]
    }
   ],
   "source": [
    "import requests\n",
    "import json\n",
    "from pprint import pprint\n",
    "\n",
    "test_cases = [\n",
    "'''\n",
    "Либесралы просто предлагают русским не умирать миллионами за хуцпу хуйла.\n",
    "Кто же виноват, что русские такие суицидальные долбаебы? Видимо, это от группового отбора, осознание своей генетической и культурной ущербности.\n",
    "'''\n",
    "\t\n",
    "\t]\n",
    "blocks = [test_cases[i:i+5] for i in range(0, len(test_cases), 5)]\n",
    "\n",
    "for i, block in enumerate(blocks, 1):\n",
    "    print(f\"\\n=== Тестовая группа {i} ===\")\n",
    "    \n",
    "    data = {\n",
    "        \"blocks\": block\n",
    "    }\n",
    "    \n",
    "    try:\n",
    "        response = requests.post(\n",
    "            \"http://localhost:5001/analyze\",\n",
    "            headers={\"Content-Type\": \"application/json\"},\n",
    "            data=json.dumps(data, ensure_ascii=False).encode('utf-8')\n",
    "        )\n",
    "        \n",
    "        print(\"\\nЗапрос:\")\n",
    "        pprint(block, width=120)\n",
    "        \n",
    "        print(\"\\nОтвет:\")\n",
    "        try:\n",
    "            result = response.json()\n",
    "            pprint(result, width=120)\n",
    "        except json.JSONDecodeError:\n",
    "            print(response.text)\n",
    "            \n",
    "    except requests.exceptions.RequestException as e:\n",
    "        print(f\"Ошибка при выполнении запроса: {e}\")\n",
    "    \n",
    "    print(\"\\n\" + \"=\"*50 + \"\\n\")"
   ]
  },
  {
   "cell_type": "code",
   "execution_count": null,
   "metadata": {},
   "outputs": [],
   "source": []
  }
 ],
 "metadata": {
  "kernelspec": {
   "display_name": "Python 3",
   "language": "python",
   "name": "python3"
  },
  "language_info": {
   "codemirror_mode": {
    "name": "ipython",
    "version": 3
   },
   "file_extension": ".py",
   "mimetype": "text/x-python",
   "name": "python",
   "nbconvert_exporter": "python",
   "pygments_lexer": "ipython3",
   "version": "3.12.3"
  }
 },
 "nbformat": 4,
 "nbformat_minor": 2
}
